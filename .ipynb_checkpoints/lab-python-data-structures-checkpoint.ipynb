{
 "cells": [
  {
   "cell_type": "markdown",
   "metadata": {
    "tags": []
   },
   "source": [
    "# Lab | Data Structures "
   ]
  },
  {
   "cell_type": "markdown",
   "metadata": {},
   "source": [
    "## Exercise: Managing Customer Orders\n",
    "\n",
    "As part of a business venture, you are starting an online store that sells various products. To ensure smooth operations, you need to develop a program that manages customer orders and inventory.\n",
    "\n",
    "Follow the steps below to complete the exercise:\n",
    "\n",
    "1. Define a list called `products` that contains the following items: \"t-shirt\", \"mug\", \"hat\", \"book\", \"keychain\".\n",
    "\n",
    "2. Create an empty dictionary called `inventory`.\n",
    "\n",
    "3. Ask the user to input the quantity of each product available in the inventory. Use the product names from the `products` list as keys in the `inventory` dictionary and assign the respective quantities as values.\n",
    "\n",
    "4. Create an empty set called `customer_orders`.\n",
    "\n",
    "5. Ask the user to input the name of three products that a customer wants to order (from those in the products list, meaning three products out of \"t-shirt\", \"mug\", \"hat\", \"book\" or \"keychain\". Add each product name to the `customer_orders` set.\n",
    "\n",
    "6. Print the products in the `customer_orders` set.\n",
    "\n",
    "7. Calculate the following order statistics:\n",
    "   - Total Products Ordered: The total number of products in the `customer_orders` set.\n",
    "   - Percentage of Products Ordered: The percentage of products ordered compared to the total available products.\n",
    "   \n",
    "   Store these statistics in a tuple called `order_status`.\n",
    "\n",
    "8. Print the order statistics using the following format:\n",
    "   ```\n",
    "   Order Statistics:\n",
    "   Total Products Ordered: <total_products_ordered>\n",
    "   Percentage of Products Ordered: <percentage_ordered>% \n",
    "   ```\n",
    "\n",
    "9. Update the inventory by subtracting 1 from the quantity of each product. Modify the `inventory` dictionary accordingly.\n",
    "\n",
    "10. Print the updated inventory, displaying the quantity of each product on separate lines.\n",
    "\n",
    "Solve the exercise by implementing the steps using the Python concepts of lists, dictionaries, sets, and basic input/output operations. "
   ]
  },
  {
   "cell_type": "code",
   "execution_count": 1,
   "metadata": {},
   "outputs": [],
   "source": [
    "products = [\"t-shirt\", \"mug\", \"hat\", \"book\", \"keychain\"]\n",
    "inventory = {}"
   ]
  },
  {
   "cell_type": "code",
   "execution_count": 2,
   "metadata": {},
   "outputs": [
    {
     "name": "stdin",
     "output_type": "stream",
     "text": [
      "Please enter te inventory of t-shirt 5\n",
      "Please enter te inventory of mug 5\n",
      "Please enter te inventory of hat 5\n",
      "Please enter te inventory of book 5\n",
      "Please enter te inventory of keychain 5\n"
     ]
    },
    {
     "data": {
      "text/plain": [
       "{'t-shirt': 5, 'mug': 5, 'hat': 5, 'book': 5, 'keychain': 5}"
      ]
     },
     "execution_count": 2,
     "metadata": {},
     "output_type": "execute_result"
    }
   ],
   "source": [
    "for i in range(0, len(products)):\n",
    "\n",
    "    quantity = input(f\"Please enter te inventory of {products[i]:}\")\n",
    "    check = True\n",
    "    \n",
    "    while check == True:\n",
    "        try:\n",
    "            quantity = int(quantity)\n",
    "            check = False\n",
    "            \n",
    "        except:\n",
    "            quantity = input(\"Please enter a number for \")\n",
    "\n",
    "    inventory[products[i]] = quantity\n",
    "inventory"
   ]
  },
  {
   "cell_type": "code",
   "execution_count": 4,
   "metadata": {},
   "outputs": [
    {
     "name": "stdin",
     "output_type": "stream",
     "text": [
      "Which 3 of the following products would you like to order: t-shirt, mug, hat, book, keychain? book\n",
      "Which 2 of the following products would you like to order: t-shirt, mug, hat, book, keychain? hat\n",
      "Which 1 of the following products would you like to order: t-shirt, mug, hat, book, keychain? a\n",
      "Please pick 1 items from the list book\n"
     ]
    },
    {
     "name": "stdout",
     "output_type": "stream",
     "text": [
      "{'hat', 'book'}\n",
      "Order statistics:\n",
      "Total Unique Products Ordered: 2 \n",
      "Percentage of Products Ordered:0.4\n",
      "t-shirt 5\n",
      "mug 5\n",
      "hat 4\n",
      "book 3\n",
      "keychain 5\n"
     ]
    }
   ],
   "source": [
    "customer_orders = set()\n",
    "customer_quantity = []\n",
    "new_inventory = {}\n",
    "for key, value in inventory.items():\n",
    "    new_inventory[key] = value\n",
    "    \n",
    "\n",
    "x = 3\n",
    "for i in range(3):\n",
    "    customer_order = input(f\"Which {x} of the following products would you like to order: t-shirt, mug, hat, book, keychain?\")\n",
    "    x -= 1\n",
    "    check_products = True\n",
    "\n",
    "    while check_products == True:\n",
    "        if customer_order in products:\n",
    "                customer_orders.add(customer_order)\n",
    "                customer_choice = customer_order\n",
    "                new_inventory[customer_choice] -= 1\n",
    "                \n",
    "                check_products = False\n",
    "        else:\n",
    "            customer_order = input(f\"Please pick {x+1} items from the list\")\n",
    "            \n",
    "print(customer_orders)\n",
    "diff_prods = len(customer_orders)\n",
    "perc_prods = len(customer_orders) / len(products)\n",
    "\n",
    "order_status = (diff_prods, perc_prods)\n",
    "\n",
    "print(f\"Order statistics:\\nTotal Unique Products Ordered: {diff_prods} \\nPercentage of Products Ordered:{perc_prods}\")\n",
    "for key, value in new_inventory.items():\n",
    "    print(key, value)"
   ]
  },
  {
   "cell_type": "code",
   "execution_count": null,
   "metadata": {},
   "outputs": [],
   "source": []
  }
 ],
 "metadata": {
  "kernelspec": {
   "display_name": "Python 3 (ipykernel)",
   "language": "python",
   "name": "python3"
  },
  "language_info": {
   "codemirror_mode": {
    "name": "ipython",
    "version": 3
   },
   "file_extension": ".py",
   "mimetype": "text/x-python",
   "name": "python",
   "nbconvert_exporter": "python",
   "pygments_lexer": "ipython3",
   "version": "3.8.18"
  }
 },
 "nbformat": 4,
 "nbformat_minor": 4
}
